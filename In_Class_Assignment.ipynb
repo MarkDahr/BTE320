{
  "nbformat": 4,
  "nbformat_minor": 0,
  "metadata": {
    "colab": {
      "provenance": [],
      "authorship_tag": "ABX9TyM2XzEBt+LzYRRd6AO6nnAR",
      "include_colab_link": true
    },
    "kernelspec": {
      "name": "python3",
      "display_name": "Python 3"
    },
    "language_info": {
      "name": "python"
    }
  },
  "cells": [
    {
      "cell_type": "markdown",
      "metadata": {
        "id": "view-in-github",
        "colab_type": "text"
      },
      "source": [
        "<a href=\"https://colab.research.google.com/github/MarkDahr/BTE320/blob/main/In_Class_Assignment.ipynb\" target=\"_parent\"><img src=\"https://colab.research.google.com/assets/colab-badge.svg\" alt=\"Open In Colab\"/></a>"
      ]
    },
    {
      "cell_type": "markdown",
      "source": [
        "Cylindar Area Calculator"
      ],
      "metadata": {
        "id": "m0Pz_lu_kZGP"
      }
    },
    {
      "cell_type": "code",
      "execution_count": null,
      "metadata": {
        "colab": {
          "base_uri": "https://localhost:8080/"
        },
        "id": "Dut8-t2Xo9Ev",
        "outputId": "8e6d2e30-de86-4ccf-b4a3-51b727efe620"
      },
      "outputs": [
        {
          "output_type": "stream",
          "name": "stdout",
          "text": [
            "Please provide the radius: 5\n",
            "Please provide the height: 5\n",
            "Area of cylinder:  314.0\n"
          ]
        }
      ],
      "source": [
        "r = int(input(\"Please provide the radius: \"))\n",
        "pi = 3.14\n",
        "h = int(input(\"Please provide the height: \"))\n",
        "area = (2*pi*r**2) + (2*pi*r*h)\n",
        "print(\"Area of cylinder: \",area)"
      ]
    },
    {
      "cell_type": "markdown",
      "source": [
        "Numerical Calculator"
      ],
      "metadata": {
        "id": "SA_MFQCakgxN"
      }
    },
    {
      "cell_type": "code",
      "source": [
        "n1 = float (input(\"Please enter a number 1: \"))\n",
        "n2 = float (input(\"Please enter a number 2: \"))\n",
        "op = input(\"Please enter the operation: \")\n",
        "\n",
        "if op == \"+\":\n",
        "  print (n1 + n2)\n",
        "elif op == \"-\":\n",
        "  print (n1 - n2)\n",
        "elif op == \"*\":\n",
        "  print (n1 * n2)\n",
        "elif op == \"/\":\n",
        "  print (n1 / n2)\n",
        "elif op == \"//\":\n",
        "  print (n1 // n2)\n",
        "elif op == \"**\":\n",
        "  print (n1 ** n2)\n",
        "elif op == \"%\":\n",
        "  print (n1 % n2)\n",
        "else:\n",
        "  print (\"Invalid operator!\")"
      ],
      "metadata": {
        "colab": {
          "base_uri": "https://localhost:8080/"
        },
        "id": "O-ohvrIx6xLV",
        "outputId": "88f4a0ff-f898-4fd9-8558-c9049e74e088"
      },
      "execution_count": null,
      "outputs": [
        {
          "output_type": "stream",
          "name": "stdout",
          "text": [
            "Please enter a number 1: 5\n",
            "Please enter a number 2: 5\n",
            "Please enter the operation: **\n",
            "3125.0\n"
          ]
        }
      ]
    },
    {
      "cell_type": "markdown",
      "source": [
        "Parking Garage"
      ],
      "metadata": {
        "id": "Yjjbjr2qkkYX"
      }
    },
    {
      "cell_type": "code",
      "source": [
        "flatRate = 5\n",
        "hourlyRate = 2.5\n",
        "\n",
        "for h in range(1,9):\n",
        "  charge = flatRate + hourlyRate * h\n",
        "  if charge < 10:\n",
        "    charge = 10\n",
        "  elif charge > 20:\n",
        "    charge = 20\n",
        "  print(h,charge)"
      ],
      "metadata": {
        "id": "n-ionad_kr-_",
        "outputId": "9faa7d2c-04fd-42b4-e77d-8847e7e2d5f4",
        "colab": {
          "base_uri": "https://localhost:8080/"
        }
      },
      "execution_count": null,
      "outputs": [
        {
          "output_type": "stream",
          "name": "stdout",
          "text": [
            "1 10\n",
            "2 10.0\n",
            "3 12.5\n",
            "4 15.0\n",
            "5 17.5\n",
            "6 20.0\n",
            "7 20\n",
            "8 20\n"
          ]
        }
      ]
    },
    {
      "cell_type": "markdown",
      "source": [
        "Movie Theater"
      ],
      "metadata": {
        "id": "vQh9XvjllGym"
      }
    },
    {
      "cell_type": "code",
      "source": [
        "print(f'Ad$ Profit')\n",
        "\n",
        "init_attendees = 20\n",
        "fixed_cost = 200\n",
        "\n",
        "for advertising in range (0,201,25):\n",
        "  ad = float(advertising)\n",
        "  attendees = float(2*round(advertising**0.5) + init_attendees)\n",
        "  profit = float((attendees * 10) - advertising - fixed_cost)\n",
        "  print(f'{ad} ${profit}')"
      ],
      "metadata": {
        "id": "UFxsv_YxlIE8",
        "outputId": "08aa3ed3-8d59-44bb-ea77-faf5e3b7522b",
        "colab": {
          "base_uri": "https://localhost:8080/"
        }
      },
      "execution_count": null,
      "outputs": [
        {
          "output_type": "stream",
          "name": "stdout",
          "text": [
            "Ad$ Profit\n",
            "0.0 $0.0\n",
            "25.0 $75.0\n",
            "50.0 $90.0\n",
            "75.0 $105.0\n",
            "100.0 $100.0\n",
            "125.0 $95.0\n",
            "150.0 $90.0\n",
            "175.0 $85.0\n",
            "200.0 $80.0\n"
          ]
        }
      ]
    },
    {
      "cell_type": "markdown",
      "source": [
        "Rock Paper-Scissors"
      ],
      "metadata": {
        "id": "R9LO7DFBlJss"
      }
    },
    {
      "cell_type": "code",
      "source": [
        "import random\n",
        "\n",
        "userinput = input(\"Would you like to play? (y/n) \")\n",
        "while userinput == \"y\":\n",
        "  user_choice = input('Choose rock, paper, or scissors: ')\n",
        "  pc_choice = random.choice(['rock','paper','scissors'])\n",
        "\n",
        "  if pc_choice == user_choice:\n",
        "    print(f'The computer chose {pc_choice}. It\\'s a tie!')\n",
        "  elif (pc_choice == 'rock' and user_choice == 'paper') or (pc_choice == 'paper' and user_choice == 'scissors') or (pc_choice == 'scissors' and user_choice == 'rock'):\n",
        "    print (f'The computer chose {pc_choice}! Congrats, you win!')\n",
        "  else:\n",
        "    print (f'The computer chose {pc_choice}. You lose. Maybe next time :(')\n",
        "  userinput = input(\"Would you like to play again? (y/n) \")\n",
        "\n",
        "print (f'It was fun playing! Bye!')"
      ],
      "metadata": {
        "id": "sD9oWEh7lM5y",
        "outputId": "13f3f45d-2d87-4b10-cf81-bcdbe4723702",
        "colab": {
          "base_uri": "https://localhost:8080/"
        }
      },
      "execution_count": 7,
      "outputs": [
        {
          "output_type": "stream",
          "name": "stdout",
          "text": [
            "Would you like to play? (y/n) y\n",
            "Choose rock, paper, or scissors: rock\n",
            "The computer chose paper. You lose. Maybe next time :(\n",
            "Would you like to play again? (y/n) n\n",
            "It was fun playing! Bye!\n"
          ]
        }
      ]
    },
    {
      "cell_type": "markdown",
      "source": [
        "Append Items to List Iteratively"
      ],
      "metadata": {
        "id": "Q2vuAxFNlNLc"
      }
    },
    {
      "cell_type": "code",
      "source": [
        "lst = []\n",
        "\n",
        "while True:\n",
        "  num = float(input('Give a number: '))\n",
        "  if num == 0.0:\n",
        "    break\n",
        "  lst.append(num)\n",
        "lst.sort(reverse=True)\n",
        "lst"
      ],
      "metadata": {
        "id": "G8fzo4o5lNdp",
        "outputId": "8a07f914-0869-4f69-c626-83c71a94ed2a",
        "colab": {
          "base_uri": "https://localhost:8080/"
        }
      },
      "execution_count": 8,
      "outputs": [
        {
          "name": "stdout",
          "output_type": "stream",
          "text": [
            "Give a number: 2\n",
            "Give a number: 2\n",
            "Give a number: 2\n",
            "Give a number: 2\n",
            "Give a number: 2\n",
            "Give a number: 2\n",
            "Give a number: 2\n",
            "Give a number: 2\n",
            "Give a number: 2\n",
            "Give a number: 2\n",
            "Give a number: 2\n",
            "Give a number: 3\n",
            "Give a number: 2\n",
            "Give a number: 2\n",
            "Give a number: 0\n"
          ]
        },
        {
          "output_type": "execute_result",
          "data": {
            "text/plain": [
              "[3.0, 2.0, 2.0, 2.0, 2.0, 2.0, 2.0, 2.0, 2.0, 2.0, 2.0, 2.0, 2.0, 2.0]"
            ]
          },
          "metadata": {},
          "execution_count": 8
        }
      ]
    },
    {
      "cell_type": "markdown",
      "source": [
        "Dynamic Dictionary of Number: Month Pairs"
      ],
      "metadata": {
        "id": "55MSELPIlN2R"
      }
    },
    {
      "cell_type": "code",
      "source": [
        "months = {}\n",
        "\n",
        "numbers = [1,2,3,4,5,6,7,8,9,10,11,12]\n",
        "names = ['January','February','March','April','May','June','July','August','September','October','November','December']\n",
        "\n",
        "for i in range(len(numbers)):\n",
        "  months[numbers[i]] = names[i]\n",
        "\n",
        "months"
      ],
      "metadata": {
        "id": "L4gHyKjrlaEd",
        "outputId": "3f9d530a-86a8-42a7-ff1a-e30f3b67dc55",
        "colab": {
          "base_uri": "https://localhost:8080/"
        }
      },
      "execution_count": 9,
      "outputs": [
        {
          "output_type": "execute_result",
          "data": {
            "text/plain": [
              "{1: 'January',\n",
              " 2: 'February',\n",
              " 3: 'March',\n",
              " 4: 'April',\n",
              " 5: 'May',\n",
              " 6: 'June',\n",
              " 7: 'July',\n",
              " 8: 'August',\n",
              " 9: 'September',\n",
              " 10: 'October',\n",
              " 11: 'November',\n",
              " 12: 'December'}"
            ]
          },
          "metadata": {},
          "execution_count": 9
        }
      ]
    },
    {
      "cell_type": "markdown",
      "source": [
        "Dynamic Dictionary; 5 Distinct Key: Value Pairs"
      ],
      "metadata": {
        "id": "S526FGLulaS6"
      }
    },
    {
      "cell_type": "code",
      "source": [
        "counts = {}\n",
        "\n",
        "while len(counts) < 5:\n",
        "  key = input(\"Give a string: \")\n",
        "\n",
        "  if key not in counts:\n",
        "    counts[key] = 1\n",
        "  else:\n",
        "    counts[key] += 12\n",
        "counts"
      ],
      "metadata": {
        "id": "w3cr59gile04",
        "outputId": "9182b149-0af3-4554-d399-fd952275e726",
        "colab": {
          "base_uri": "https://localhost:8080/"
        }
      },
      "execution_count": 15,
      "outputs": [
        {
          "name": "stdout",
          "output_type": "stream",
          "text": [
            "Give a string: 2\n",
            "Give a string: 2\n",
            "Give a string: 2\n",
            "Give a string: 2\n",
            "Give a string: 2\n",
            "Give a string: 2\n",
            "Give a string: 2\n",
            "Give a string: 2\n",
            "Give a string: 2\n",
            "Give a string: 2\n",
            "Give a string: 2\n",
            "Give a string: 2\n",
            "Give a string: 2\n",
            "Give a string: 2\n",
            "Give a string: 2\n",
            "Give a string: 2\n",
            "Give a string: 5\n",
            "Give a string: 6\n",
            "Give a string: \n",
            "Give a string: 7\n"
          ]
        },
        {
          "output_type": "execute_result",
          "data": {
            "text/plain": [
              "{'2': 16, '5': 1, '6': 1, '': 1, '7': 1}"
            ]
          },
          "metadata": {},
          "execution_count": 15
        }
      ]
    },
    {
      "cell_type": "markdown",
      "source": [
        "Parking Garage: calcFee Function"
      ],
      "metadata": {
        "id": "66gJd5EQlhY9"
      }
    },
    {
      "cell_type": "code",
      "source": [
        "def displayFee (fee):\n",
        "  print(fee)\n",
        "\n",
        "def calcFee (hours, decimals=2) :\n",
        "  fee = 5 + hours * 2.5\n",
        "  fee = round(fee, decimals)\n",
        "  return fee\n",
        "\n",
        "if __name__ == \"__main__\":\n",
        "  h = int(input('Enter number of hours: '))\n",
        "  displayFee(calcFee(h))"
      ],
      "metadata": {
        "id": "WIxHtU-Xll5I",
        "outputId": "a42d2be2-2244-43d7-a143-2f8f567d10b7",
        "colab": {
          "base_uri": "https://localhost:8080/"
        }
      },
      "execution_count": 16,
      "outputs": [
        {
          "output_type": "stream",
          "name": "stdout",
          "text": [
            "Enter number of hours: 19\n",
            "52.5\n"
          ]
        }
      ]
    }
  ]
}