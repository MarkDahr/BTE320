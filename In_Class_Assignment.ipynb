{
  "nbformat": 4,
  "nbformat_minor": 0,
  "metadata": {
    "colab": {
      "provenance": [],
      "authorship_tag": "ABX9TyOkNwln/DUuyBPISwc426f4",
      "include_colab_link": true
    },
    "kernelspec": {
      "name": "python3",
      "display_name": "Python 3"
    },
    "language_info": {
      "name": "python"
    }
  },
  "cells": [
    {
      "cell_type": "markdown",
      "metadata": {
        "id": "view-in-github",
        "colab_type": "text"
      },
      "source": [
        "<a href=\"https://colab.research.google.com/github/MarkDahr/BTE320/blob/main/In_Class_Assignment.ipynb\" target=\"_parent\"><img src=\"https://colab.research.google.com/assets/colab-badge.svg\" alt=\"Open In Colab\"/></a>"
      ]
    },
    {
      "cell_type": "code",
      "execution_count": null,
      "metadata": {
        "colab": {
          "base_uri": "https://localhost:8080/"
        },
        "id": "Dut8-t2Xo9Ev",
        "outputId": "8e6d2e30-de86-4ccf-b4a3-51b727efe620"
      },
      "outputs": [
        {
          "output_type": "stream",
          "name": "stdout",
          "text": [
            "Please provide the radius: 5\n",
            "Please provide the height: 5\n",
            "Area of cylinder:  314.0\n"
          ]
        }
      ],
      "source": [
        "r = int(input(\"Please provide the radius: \"))\n",
        "pi = 3.14\n",
        "h = int(input(\"Please provide the height: \"))\n",
        "area = (2*pi*r**2) + (2*pi*r*h)\n",
        "print(\"Area of cylinder: \",area)"
      ]
    },
    {
      "cell_type": "markdown",
      "source": [
        "My Notes\n",
        "\n",
        "For assignments like this, start from the end. We want area.\n",
        "Then start with the variables. There are 3. Pi is an integer, h and r must be given from the keyboard.\n",
        "\n",
        "When you square something **3\n",
        "\n",
        "' and \" are the same thing just dont mix and match.\n",
        "for the last line you can also do: print(f'Area of cyliner: {area} sq. ft\")"
      ],
      "metadata": {
        "id": "azmLUw10r51S"
      }
    }
  ]
}